{
 "cells": [
  {
   "cell_type": "markdown",
   "metadata": {},
   "source": [
    "### Comparing Neighborhoods of San Francisco and Toronto\n",
    "#### IBM Data Science Capstone Project\n",
    "##### Yichuan Wang\n",
    "##### 2020"
   ]
  },
  {
   "cell_type": "markdown",
   "metadata": {},
   "source": [
    "#### 1. Introduction\n",
    "\n",
    "San Francisco and Toronto are both very populous cities in North America and offer a lot of attractions. In this project, we would like to leverage the Foursquare venue and location data for neighborhoods of each city in order to find any similarity or dissimilarity between the two. We hope to provide insights for potential residents/businesses who might choose between the two cities to relocate or establish offices."
   ]
  },
  {
   "cell_type": "code",
   "execution_count": null,
   "metadata": {},
   "outputs": [],
   "source": []
  }
 ],
 "metadata": {
  "kernelspec": {
   "display_name": "Python 3",
   "language": "python",
   "name": "python3"
  },
  "language_info": {
   "codemirror_mode": {
    "name": "ipython",
    "version": 3
   },
   "file_extension": ".py",
   "mimetype": "text/x-python",
   "name": "python",
   "nbconvert_exporter": "python",
   "pygments_lexer": "ipython3",
   "version": "3.8.5"
  }
 },
 "nbformat": 4,
 "nbformat_minor": 4
}
