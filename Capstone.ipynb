{
 "cells": [
  {
   "cell_type": "markdown",
   "metadata": {},
   "source": [
    "### Comparing Neighborhoods of San Francisco and Toronto\n",
    "#### IBM Data Science Capstone Project\n",
    "##### Yichuan Wang\n",
    "##### 2020"
   ]
  },
  {
   "cell_type": "raw",
   "metadata": {},
   "source": [
    "\n",
    "\n"
   ]
  },
  {
   "cell_type": "markdown",
   "metadata": {},
   "source": [
    "#### 1. Introduction\n",
    "\n",
    "San Francisco and Toronto are both very populous cities in North America and offer a lot of attractions. But how similar or dissimilar are these two cities? Should a business choose to establish a new office, which one would offer better appeal in terms of good mixture of neighborhood venues and lower crime rate?\n",
    "\n",
    "In this project, we would like to leverage the Foursquare venue and location data for neighborhoods of each city in an attempt to answer the question. We hope to provide insights for potential residents/businesses who might choose between the two cities to relocate or establish offices."
   ]
  },
  {
   "source": [
    "#### 2. Data Description\n",
    "\n",
    "The main part of our data for this project will be obtained via the Foursquare API. It consists of data for venues in each city, including their names, locations, categories, etc. Foursquare API provides different versions of the venue data for different dates. The version, of date, of our data will be 12/31/2016 in order to be around the same timeframe as the other data used. We expect different neighborhoods of the cities will have different composition of venues, which help us discover the similarities or dissimilaries of the neighborhoods.\n",
    "\n",
    "In addition to the Foursquare venue data, we also include crime data from each city in 2016 to provide more insights and comparison. The crime data for San Franciso is obtained from the IBM Data Visualization with Python course and downloaded from https://cocl.us/sanfran_crime_dataset. The crime data for Toronto is downloaded from the Toronto Police Service Public Safety Data Portal at https://data.torontopolice.on.ca/. Both datasets contain the crime type, date, location, etc. for our analysis. We are mostly concerned with the total number of crimes in each neighborhood for this project. "
   ],
   "cell_type": "markdown",
   "metadata": {}
  }
 ],
 "metadata": {
  "kernelspec": {
   "display_name": "Python 3",
   "language": "python",
   "name": "python3"
  },
  "language_info": {
   "codemirror_mode": {
    "name": "ipython",
    "version": 3
   },
   "file_extension": ".py",
   "mimetype": "text/x-python",
   "name": "python",
   "nbconvert_exporter": "python",
   "pygments_lexer": "ipython3",
   "version": "3.8.5-final"
  }
 },
 "nbformat": 4,
 "nbformat_minor": 4
}