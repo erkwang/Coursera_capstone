{
 "cells": [
  {
   "cell_type": "markdown",
   "metadata": {},
   "source": [
    "### Week 3 Assignment - Segmenting and Clustering Neighborhoods in Toronto"
   ]
  },
  {
   "cell_type": "markdown",
   "metadata": {},
   "source": [
    "#### Yichuan Wang"
   ]
  },
  {
   "cell_type": "code",
   "execution_count": 2,
   "metadata": {},
   "outputs": [],
   "source": [
    "# import needed packages\n",
    "import pandas as pd\n",
    "import numpy as np\n",
    "import requests"
   ]
  },
  {
   "cell_type": "markdown",
   "metadata": {},
   "source": [
    "##### Part 1. Read the Toronto neighborhood table from Wikipedia "
   ]
  },
  {
   "cell_type": "code",
   "execution_count": 37,
   "metadata": {},
   "outputs": [
    {
     "data": {
      "text/html": [
       "<div>\n",
       "<style scoped>\n",
       "    .dataframe tbody tr th:only-of-type {\n",
       "        vertical-align: middle;\n",
       "    }\n",
       "\n",
       "    .dataframe tbody tr th {\n",
       "        vertical-align: top;\n",
       "    }\n",
       "\n",
       "    .dataframe thead th {\n",
       "        text-align: right;\n",
       "    }\n",
       "</style>\n",
       "<table border=\"1\" class=\"dataframe\">\n",
       "  <thead>\n",
       "    <tr style=\"text-align: right;\">\n",
       "      <th></th>\n",
       "      <th>Postal Code</th>\n",
       "      <th>Borough</th>\n",
       "      <th>Neighbourhood</th>\n",
       "    </tr>\n",
       "  </thead>\n",
       "  <tbody>\n",
       "    <tr>\n",
       "      <th>0</th>\n",
       "      <td>M1A</td>\n",
       "      <td>Not assigned</td>\n",
       "      <td>Not assigned</td>\n",
       "    </tr>\n",
       "    <tr>\n",
       "      <th>1</th>\n",
       "      <td>M2A</td>\n",
       "      <td>Not assigned</td>\n",
       "      <td>Not assigned</td>\n",
       "    </tr>\n",
       "    <tr>\n",
       "      <th>2</th>\n",
       "      <td>M3A</td>\n",
       "      <td>North York</td>\n",
       "      <td>Parkwoods</td>\n",
       "    </tr>\n",
       "    <tr>\n",
       "      <th>3</th>\n",
       "      <td>M4A</td>\n",
       "      <td>North York</td>\n",
       "      <td>Victoria Village</td>\n",
       "    </tr>\n",
       "    <tr>\n",
       "      <th>4</th>\n",
       "      <td>M5A</td>\n",
       "      <td>Downtown Toronto</td>\n",
       "      <td>Regent Park, Harbourfront</td>\n",
       "    </tr>\n",
       "  </tbody>\n",
       "</table>\n",
       "</div>"
      ],
      "text/plain": [
       "  Postal Code           Borough              Neighbourhood\n",
       "0         M1A      Not assigned               Not assigned\n",
       "1         M2A      Not assigned               Not assigned\n",
       "2         M3A        North York                  Parkwoods\n",
       "3         M4A        North York           Victoria Village\n",
       "4         M5A  Downtown Toronto  Regent Park, Harbourfront"
      ]
     },
     "execution_count": 37,
     "metadata": {},
     "output_type": "execute_result"
    }
   ],
   "source": [
    "# website where the table is located\n",
    "url = 'https://en.wikipedia.org/wiki/List_of_postal_codes_of_Canada:_M'\n",
    "\n",
    "# use pandas to find the tables from website above\n",
    "list_of_df=pd.read_html(url, header=0)\n",
    "\n",
    "# the first table is the one we need\n",
    "toronto_df=list_of_df[0]\n",
    "toronto_df.head()"
   ]
  },
  {
   "cell_type": "markdown",
   "metadata": {},
   "source": [
    "We need to drop entries where Boroughs are 'Not assigned' and replace 'Not assigned' Neighborhoods with the Borough names."
   ]
  },
  {
   "cell_type": "code",
   "execution_count": 39,
   "metadata": {},
   "outputs": [
    {
     "name": "stdout",
     "output_type": "stream",
     "text": [
      "  Postal Code           Borough                                 Neighborhood\n",
      "0         M3A        North York                                    Parkwoods\n",
      "1         M4A        North York                             Victoria Village\n",
      "2         M5A  Downtown Toronto                    Regent Park, Harbourfront\n",
      "3         M6A        North York             Lawrence Manor, Lawrence Heights\n",
      "4         M7A  Downtown Toronto  Queen's Park, Ontario Provincial Government\n",
      "\n",
      "The table size is:  (103, 3)\n",
      "\n",
      "        Postal Code     Borough Neighborhood\n",
      "count          103         103          103\n",
      "unique         103          10           99\n",
      "top            M2J  North York    Downsview\n",
      "freq             1          24            4\n"
     ]
    }
   ],
   "source": [
    "# first change the spelling of Neighbourhood to Neighborhood\n",
    "toronto_df.columns=['Postal Code','Borough','Neighborhood']\n",
    "\n",
    "# drop 'Not assigned' Boroughs\n",
    "toronto_df=toronto_df[toronto_df['Borough']!='Not assigned']\n",
    "\n",
    "# replace 'Not assigned' neighborhoods with Borough names\n",
    "idx=toronto_df['Neighborhood']=='Not assigned'\n",
    "toronto_df['Neighborhood'][idx]=toronto_df['Borough'][idx]\n",
    "\n",
    "# reset the table index\n",
    "toronto_df=toronto_df.reset_index(drop=True)\n",
    "\n",
    "# print a summary view of the table\n",
    "print(toronto_df.head())\n",
    "print('\\nThe table size is: ',toronto_df.shape)\n",
    "print('\\n',toronto_df.describe())"
   ]
  },
  {
   "cell_type": "markdown",
   "metadata": {},
   "source": [
    "Since all postal codes are unique in the table, we do not need to combine any entries. A quick inspection of the table on the web shows there's no missing entry in the Postal Code column."
   ]
  }
 ],
 "metadata": {
  "kernelspec": {
   "display_name": "Python 3",
   "language": "python",
   "name": "python3"
  },
  "language_info": {
   "codemirror_mode": {
    "name": "ipython",
    "version": 3
   },
   "file_extension": ".py",
   "mimetype": "text/x-python",
   "name": "python",
   "nbconvert_exporter": "python",
   "pygments_lexer": "ipython3",
   "version": "3.8.5"
  }
 },
 "nbformat": 4,
 "nbformat_minor": 4
}
